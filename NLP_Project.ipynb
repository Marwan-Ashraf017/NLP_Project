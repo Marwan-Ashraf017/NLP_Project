{
  "nbformat": 4,
  "nbformat_minor": 0,
  "metadata": {
    "colab": {
      "provenance": []
    },
    "kernelspec": {
      "name": "python3",
      "display_name": "Python 3"
    },
    "language_info": {
      "name": "python"
    }
  },
  "cells": [
    {
      "cell_type": "markdown",
      "source": [
        "# **NLP Project**"
      ],
      "metadata": {
        "id": "fjzRVKOUk2cs"
      }
    },
    {
      "cell_type": "markdown",
      "source": [
        "## **Milestone 1**\n"
      ],
      "metadata": {
        "id": "ULRW5MY7xU7N"
      }
    },
    {
      "cell_type": "markdown",
      "source": [
        "## **Imports & Downloads**"
      ],
      "metadata": {
        "id": "B58m9fvCs-sl"
      }
    },
    {
      "cell_type": "code",
      "execution_count": 1,
      "metadata": {
        "id": "2q24AlNHkbmn"
      },
      "outputs": [],
      "source": [
        "import pandas as pd\n",
        "import nltk\n",
        "from nltk.corpus import stopwords\n",
        "from nltk.tokenize import word_tokenize\n",
        "from nltk.stem import WordNetLemmatizer\n",
        "import string\n",
        "from matplotlib import pyplot as plt\n",
        "import numpy as np\n",
        "import tensorflow as tf\n",
        "from tensorflow import keras\n",
        "from keras.layers import LSTM, Dense, Embedding, TextVectorization\n",
        "from keras.utils import to_categorical\n",
        "from keras.models import Sequential\n",
        "from keras.preprocessing.text import Tokenizer\n",
        "from keras.preprocessing.sequence import pad_sequences"
      ]
    },
    {
      "cell_type": "code",
      "source": [
        "nltk.download('punkt')\n",
        "nltk.download('stopwords')\n",
        "nltk.download('wordnet')\n",
        "!pip install textblob\n",
        "!pip install pyspellchecker\n",
        "!pip install fuzzywuzzy\n",
        "!pip install python-Levenshtein\n",
        "nltk.download('popular');\n"
      ],
      "metadata": {
        "id": "HoCvQM4I6Epu"
      },
      "execution_count": null,
      "outputs": []
    },
    {
      "cell_type": "markdown",
      "source": [
        "## **Import Dataset**"
      ],
      "metadata": {
        "id": "mTwkfHYslOQg"
      }
    },
    {
      "cell_type": "code",
      "source": [
        "# Importing the spotify million song dataset\n",
        "df = pd.read_csv(\"/content/drive/MyDrive/spotify_million_dataset.csv\")"
      ],
      "metadata": {
        "id": "0iiZTppPwy3a"
      },
      "execution_count": 3,
      "outputs": []
    },
    {
      "cell_type": "markdown",
      "source": [
        "## **Data Cleaning**"
      ],
      "metadata": {
        "id": "YAIWQodKlVX5"
      }
    },
    {
      "cell_type": "code",
      "source": [
        "def remove_punctuation(text):\n",
        "    return text.translate(str.maketrans('', '', string.punctuation))\n",
        "\n",
        "def remove_stopwords(text):\n",
        "    stop_words = set(stopwords.words('english'))\n",
        "    tokens = word_tokenize(text)\n",
        "    filtered_tokens = [word for word in tokens if word.lower() not in stop_words]\n",
        "    return ' '.join(filtered_tokens)\n",
        "\n",
        "def lemmatize_text(text):\n",
        "    lemmatizer = WordNetLemmatizer()\n",
        "    tokens = word_tokenize(text)\n",
        "    lemmatized_tokens = [lemmatizer.lemmatize(word) for word in tokens]\n",
        "    return ' '.join(lemmatized_tokens)\n",
        "\n",
        "df['clean_song'] = df['text'].apply(remove_punctuation)\n",
        "df['clean_song'] = df['clean_song'].apply(remove_stopwords)\n",
        "df['clean_song'] = df['clean_song'].apply(lemmatize_text)\n",
        "\n",
        "df['song_len'] = df['text'].str.len()\n",
        "df['clean_song_len'] = df['clean_song'].str.len()"
      ],
      "metadata": {
        "id": "HAdcIBC5w3Ba"
      },
      "execution_count": 4,
      "outputs": []
    },
    {
      "cell_type": "markdown",
      "source": [
        "## **Exploratory Analysis**"
      ],
      "metadata": {
        "id": "XwL4gA-XlaTz"
      }
    },
    {
      "cell_type": "code",
      "source": [
        "\"\"\" Get top 20 artists  \"\"\"\n",
        "artist_df = (\n",
        "    df['artist'].value_counts()\n",
        "    .head(10)\n",
        "    .rename_axis('values')\n",
        "    .reset_index(name = 'counts')\n",
        ")\n",
        "\n",
        "avg_len_df = df.groupby('artist')['clean_song_len'].aggregate('mean').head(20)"
      ],
      "metadata": {
        "id": "ftz_u2gow7M0"
      },
      "execution_count": 22,
      "outputs": []
    },
    {
      "cell_type": "markdown",
      "source": [
        "## **Data Visualization**"
      ],
      "metadata": {
        "id": "COnWbsN-lf-c"
      }
    },
    {
      "cell_type": "code",
      "source": [
        "avg_len_df.plot(kind='bar')\n",
        "plt.xlabel('Artist')\n",
        "plt.ylabel('Avg. song length')\n",
        "plt.xticks(rotation=0)\n",
        "plt.show()"
      ],
      "metadata": {
        "id": "pkpawRUNxJMz",
        "colab": {
          "base_uri": "https://localhost:8080/",
          "height": 449
        },
        "outputId": "fa3ca3c8-1ef2-4da1-a086-b3343a8eed8f"
      },
      "execution_count": 23,
      "outputs": [
        {
          "output_type": "display_data",
          "data": {
            "text/plain": [
              "<Figure size 640x480 with 1 Axes>"
            ],
            "image/png": "[encoded data removed]"
          },
          "metadata": {}
        }
      ]
    },
    {
      "cell_type": "code",
      "source": [
        "plt.pie(artist_df['counts'], labels=artist_df['values'])\n",
        "plt.show()"
      ],
      "metadata": {
        "colab": {
          "base_uri": "https://localhost:8080/",
          "height": 406
        },
        "id": "GX356x6EnFyb",
        "outputId": "8bd05856-36b9-47d8-f439-26496771465a"
      },
      "execution_count": 24,
      "outputs": [
        {
          "output_type": "display_data",
          "data": {
            "text/plain": [
              "<Figure size 640x480 with 1 Axes>"
            ],
            "image/png": "[encoded data removed]"
          },
          "metadata": {}
        }
      ]
    },
    {
      "cell_type": "markdown",
      "source": [
        "# **Milestone 2**"
      ],
      "metadata": {
        "id": "GYSu9tpvxM6n"
      }
    },
    {
      "cell_type": "markdown",
      "source": [
        "## **Preprocess Data**"
      ],
      "metadata": {
        "id": "cVr5WuF3lq-0"
      }
    },
    {
      "cell_type": "code",
      "source": [
        "sample_df = df[:500] #Work with only 500 rows due to memory usage\n",
        "\n",
        "tokenizer = Tokenizer()\n",
        "tokenizer.fit_on_texts(sample_df['clean_song'])\n",
        "total_words = len(tokenizer.word_index) + 1"
      ],
      "metadata": {
        "id": "Pk1Xtnw2grZu"
      },
      "execution_count": 8,
      "outputs": []
    },
    {
      "cell_type": "code",
      "source": [
        "input_sequences = []\n",
        "for line in sample_df['clean_song']:\n",
        "    token_list = tokenizer.texts_to_sequences([line])[0]\n",
        "    for i in range(1, len(token_list)):\n",
        "        n_gram_sequence = token_list[:i+1]\n",
        "        input_sequences.append(n_gram_sequence)\n",
        "\n",
        "max_sequence_len = max([len(seq) for seq in input_sequences])\n",
        "input_sequences = np.array(pad_sequences(input_sequences, maxlen=max_sequence_len, padding='pre'))"
      ],
      "metadata": {
        "id": "jVyXFGBRg4iI"
      },
      "execution_count": 9,
      "outputs": []
    },
    {
      "cell_type": "code",
      "source": [
        "X, y = input_sequences[:,:-1],input_sequences[:,-1]\n",
        "y = to_categorical(y, num_classes=total_words)"
      ],
      "metadata": {
        "id": "gGsTCQT75eCf"
      },
      "execution_count": 10,
      "outputs": []
    },
    {
      "cell_type": "markdown",
      "source": [
        "## **The Model**"
      ],
      "metadata": {
        "id": "pUOHt2mlmJmJ"
      }
    },
    {
      "cell_type": "code",
      "source": [
        "model = Sequential()\n",
        "model.add(Embedding(total_words, 64, input_length=max_sequence_len-1))\n",
        "model.add(LSTM(64))\n",
        "model.add(Dense(total_words, activation='softmax'))\n",
        "\n",
        "model.compile(loss='categorical_crossentropy', optimizer='adam', metrics=['accuracy'])\n",
        "\n",
        "steps_per_epoch = len(X) // 32  # Calculate steps per epoch\n",
        "\n",
        "model.fit(X, y, epochs=20, batch_size=32, steps_per_epoch=steps_per_epoch, verbose=1)\n"
      ],
      "metadata": {
        "id": "b5f2M28PhaPq",
        "colab": {
          "base_uri": "https://localhost:8080/"
        },
        "outputId": "13bd56e9-17c1-4243-dc3c-5a446295f5a8"
      },
      "execution_count": 13,
      "outputs": [
        {
          "output_type": "stream",
          "name": "stdout",
          "text": [
            "Epoch 1/20\n",
            "1788/1788 [==============================] - 451s 250ms/step - loss: 7.1491 - accuracy: 0.0210\n",
            "Epoch 2/20\n",
            "1788/1788 [==============================] - 446s 250ms/step - loss: 6.7263 - accuracy: 0.0315\n",
            "Epoch 3/20\n",
            "1788/1788 [==============================] - 447s 250ms/step - loss: 6.4072 - accuracy: 0.0452\n",
            "Epoch 4/20\n",
            "1788/1788 [==============================] - 451s 252ms/step - loss: 6.0803 - accuracy: 0.0644\n",
            "Epoch 5/20\n",
            "1788/1788 [==============================] - 447s 250ms/step - loss: 5.7553 - accuracy: 0.0894\n",
            "Epoch 6/20\n",
            "1788/1788 [==============================] - 449s 251ms/step - loss: 5.4459 - accuracy: 0.1177\n",
            "Epoch 7/20\n",
            "1788/1788 [==============================] - 449s 251ms/step - loss: 5.1550 - accuracy: 0.1473\n",
            "Epoch 8/20\n",
            "1788/1788 [==============================] - 448s 251ms/step - loss: 4.8843 - accuracy: 0.1753\n",
            "Epoch 9/20\n",
            "1788/1788 [==============================] - 447s 250ms/step - loss: 4.6333 - accuracy: 0.2032\n",
            "Epoch 10/20\n",
            "1788/1788 [==============================] - 447s 250ms/step - loss: 4.3970 - accuracy: 0.2313\n",
            "Epoch 11/20\n",
            "1788/1788 [==============================] - 443s 248ms/step - loss: 4.1804 - accuracy: 0.2581\n",
            "Epoch 12/20\n",
            "1788/1788 [==============================] - 446s 250ms/step - loss: 3.9802 - accuracy: 0.2882\n",
            "Epoch 13/20\n",
            "1788/1788 [==============================] - 444s 248ms/step - loss: 3.7923 - accuracy: 0.3152\n",
            "Epoch 14/20\n",
            "1788/1788 [==============================] - 443s 248ms/step - loss: 3.6207 - accuracy: 0.3423\n",
            "Epoch 15/20\n",
            "1788/1788 [==============================] - 442s 247ms/step - loss: 3.4620 - accuracy: 0.3668\n",
            "Epoch 16/20\n",
            "1788/1788 [==============================] - 438s 245ms/step - loss: 3.3146 - accuracy: 0.3915\n",
            "Epoch 17/20\n",
            "1788/1788 [==============================] - 442s 247ms/step - loss: 3.1743 - accuracy: 0.4146\n",
            "Epoch 18/20\n",
            "1788/1788 [==============================] - 439s 246ms/step - loss: 3.0494 - accuracy: 0.4356\n",
            "Epoch 19/20\n",
            "1788/1788 [==============================] - 443s 248ms/step - loss: 2.9315 - accuracy: 0.4526\n",
            "Epoch 20/20\n",
            "1788/1788 [==============================] - 448s 251ms/step - loss: 2.8248 - accuracy: 0.4705\n"
          ]
        },
        {
          "output_type": "execute_result",
          "data": {
            "text/plain": [
              "<keras.src.callbacks.History at 0x7ecc8379b0d0>"
            ]
          },
          "metadata": {},
          "execution_count": 13
        }
      ]
    },
    {
      "cell_type": "markdown",
      "source": [
        "## **Generate Output Text**"
      ],
      "metadata": {
        "id": "6HgnFJGnmOLm"
      }
    },
    {
      "cell_type": "code",
      "source": [
        "# Function to generate text\n",
        "def generate_text(seed_text, next_words, model, max_sequence_len):\n",
        "    for _ in range(next_words):\n",
        "        token_list = tokenizer.texts_to_sequences([seed_text])[0]\n",
        "        token_list = pad_sequences([token_list], maxlen=max_sequence_len-1, padding='pre')\n",
        "        predicted_probs = model.predict(token_list, verbose=0)[0]\n",
        "        predicted_index = np.argmax(predicted_probs)\n",
        "        output_word = \"\"\n",
        "        for word, index in tokenizer.word_index.items():\n",
        "            if index == predicted_index:\n",
        "                output_word = word\n",
        "                break\n",
        "        seed_text += \" \" + output_word\n",
        "    return seed_text\n",
        "\n",
        "seed_text = \"input seed text here\"\n",
        "generated_text = generate_text(seed_text, 20, model, max_sequence_len)\n",
        "print(generated_text)"
      ],
      "metadata": {
        "id": "Fhf1FxSvjFqI",
        "colab": {
          "base_uri": "https://localhost:8080/"
        },
        "outputId": "b97f2e13-d240-477e-f1c6-4e369d3b14a3"
      },
      "execution_count": 21,
      "outputs": [
        {
          "output_type": "stream",
          "name": "stdout",
          "text": [
            "input seed text here free face tells time come back come back chorus chorus chorus chorus goodbye goodbye goodbye goodbye love love love love\n"
          ]
        }
      ]
    }
  ]
}